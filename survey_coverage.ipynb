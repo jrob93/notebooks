{
 "cells": [
  {
   "cell_type": "code",
   "execution_count": 1,
   "id": "dc860a49",
   "metadata": {},
   "outputs": [],
   "source": [
    "import os\n",
    "import numpy as np\n",
    "import matplotlib.pyplot as plt\n",
    "import matplotlib.gridspec as gridspec\n",
    "import pandas as pd\n",
    "import healpy as hp\n",
    "import rubin_sim.maf as maf\n",
    "import sqlite3\n",
    "import glob"
   ]
  },
  {
   "cell_type": "markdown",
   "id": "effcd9b1",
   "metadata": {},
   "source": [
    "# Set up variables and get the first year of observations"
   ]
  },
  {
   "cell_type": "code",
   "execution_count": 2,
   "id": "1f018f13",
   "metadata": {},
   "outputs": [],
   "source": [
    "# select the survey simulation\n",
    "baseline_db = \"baseline_v3.2_10yrs.db\"\n",
    "year1_fname = 'first_year_{}.db'.format(baseline_db.split(\".db\")[0])\n",
    "\n",
    "# range of nights to investigate (year 1 of survey)\n",
    "night_min = 0\n",
    "night_max = 365"
   ]
  },
  {
   "cell_type": "code",
   "execution_count": 3,
   "id": "dae9ad3d",
   "metadata": {},
   "outputs": [
    {
     "name": "stdout",
     "output_type": "stream",
     "text": [
      "Healpix slicer using NSIDE=64, approximate resolution 54.967783 arcminutes\n"
     ]
    }
   ],
   "source": [
    "# set nside for analysis metric (use higher resolution when removing no-template images later)\n",
    "# nside = 32\n",
    "nside = 64\n",
    "# nside = 256\n",
    "s_hp = maf.HealpixSlicer(nside=nside)"
   ]
  },
  {
   "cell_type": "code",
   "execution_count": 4,
   "id": "47924d8b",
   "metadata": {},
   "outputs": [],
   "source": [
    "# set path for metric output files\n",
    "save_dir = \"survey_coverage_results_{}\".format(nside)"
   ]
  },
  {
   "cell_type": "code",
   "execution_count": 5,
   "id": "19040e87",
   "metadata": {},
   "outputs": [
    {
     "name": "stdout",
     "output_type": "stream",
     "text": [
      "healpixel area = 0.8392936452111668 square degrees\n",
      " number of healpixels in visit = 11.438189785870039\n"
     ]
    }
   ],
   "source": [
    "# use the healpix area to find approximate number of healpixels in a single visit\n",
    "pix_area = hp.pixelfunc.nside2pixarea(nside, degrees=True) # square degrees\n",
    "lsst_footprint = 9.6 # single visit footprint, square degrees, GET EXACT NUMBER?\n",
    "n_pix = lsst_footprint/pix_area # number of healpixels within each visit footprint\n",
    "print(\"healpixel area = {} square degrees\\n number of healpixels in visit = {}\".format(pix_area,n_pix))"
   ]
  },
  {
   "cell_type": "code",
   "execution_count": 6,
   "id": "3280f74c",
   "metadata": {},
   "outputs": [],
   "source": [
    "# query or load the database of year 1 observations\n",
    "if not os.path.isfile(year1_fname): \n",
    "    print(\"get year 1 observations\")\n",
    "    conn = sqlite3.connect(baseline_db)\n",
    "    df = pd.read_sql('select * from observations;', conn)\n",
    "    df_year1 = df[df[\"night\"]<=night_max]\n",
    "    conn.close()\n",
    "\n",
    "    # open up a connection to a new database\n",
    "    conn = sqlite3.connect(year1_fname)\n",
    "    df_year1.to_sql('observations', conn, index=False, if_exists='replace')\n",
    "    conn.close()\n",
    "    \n",
    "else:\n",
    "    conn = sqlite3.connect(year1_fname)\n",
    "    df_year1 = pd.read_sql('select * from observations;', conn)\n",
    "    conn.close()"
   ]
  },
  {
   "cell_type": "code",
   "execution_count": 7,
   "id": "1557ca69",
   "metadata": {},
   "outputs": [
    {
     "data": {
      "text/plain": [
       "array(['DD:COSMOS', 'DD:ECDFS', 'DD:EDFS_a', 'DD:EDFS_b', 'DD:ELAISS1',\n",
       "       'DD:XMM_LSS', 'blob_long, gr, a', 'blob_long, gr, b',\n",
       "       'blob_long, iz, a', 'blob_long, iz, b', 'blob_long, ri, a',\n",
       "       'blob_long, ri, b', 'greedy', 'long', 'pair_15, iz, a',\n",
       "       'pair_15, iz, b', 'pair_15, ri, a', 'pair_15, ri, b',\n",
       "       'pair_15, yy, a', 'pair_15, yy, b', 'pair_15, zy, a',\n",
       "       'pair_15, zy, b', 'pair_33, gr, a', 'pair_33, gr, b',\n",
       "       'pair_33, iz, a', 'pair_33, iz, b', 'pair_33, ri, a',\n",
       "       'pair_33, ri, b', 'pair_33, ug, a', 'pair_33, ug, b',\n",
       "       'pair_33, ur, a', 'pair_33, ur, b', 'pair_33, yy, a',\n",
       "       'pair_33, yy, b', 'pair_33, zy, a', 'pair_33, zy, b',\n",
       "       'twilight_near_sun, 0', 'twilight_near_sun, 1',\n",
       "       'twilight_near_sun, 2', 'twilight_near_sun, 3'], dtype=object)"
      ]
     },
     "execution_count": 7,
     "metadata": {},
     "output_type": "execute_result"
    }
   ],
   "source": [
    "# what are the unique descriptions of each visit\n",
    "np.unique(df_year1[\"note\"])"
   ]
  },
  {
   "cell_type": "code",
   "execution_count": 8,
   "id": "f529cfff",
   "metadata": {
    "scrolled": true
   },
   "outputs": [
    {
     "data": {
      "text/plain": [
       "3050      DD:COSMOS\n",
       "3051      DD:COSMOS\n",
       "3052      DD:COSMOS\n",
       "3053      DD:COSMOS\n",
       "3054      DD:COSMOS\n",
       "            ...    \n",
       "232447    DD:COSMOS\n",
       "232448    DD:COSMOS\n",
       "232449    DD:COSMOS\n",
       "232450    DD:COSMOS\n",
       "232451    DD:COSMOS\n",
       "Name: note, Length: 19791, dtype: object"
      ]
     },
     "execution_count": 8,
     "metadata": {},
     "output_type": "execute_result"
    }
   ],
   "source": [
    "# Number of deep drilling (DD) visits\n",
    "df_year1[\"note\"][df_year1[\"note\"].str.contains(\"DD\")]"
   ]
  },
  {
   "cell_type": "code",
   "execution_count": 9,
   "id": "cb967631",
   "metadata": {},
   "outputs": [
    {
     "data": {
      "text/plain": [
       "93        pair_33, ug, a\n",
       "94        pair_33, ug, a\n",
       "95        pair_33, ug, a\n",
       "96        pair_33, ug, a\n",
       "97        pair_33, ug, a\n",
       "               ...      \n",
       "239276    pair_15, yy, b\n",
       "239277    pair_15, yy, b\n",
       "239278    pair_15, yy, b\n",
       "239279    pair_15, yy, b\n",
       "239280    pair_15, yy, b\n",
       "Name: note, Length: 195201, dtype: object"
      ]
     },
     "execution_count": 9,
     "metadata": {},
     "output_type": "execute_result"
    }
   ],
   "source": [
    "# Does \"pair\" refer to WFD?\n",
    "df_year1[\"note\"][df_year1[\"note\"].str.contains(\"pair\")]"
   ]
  },
  {
   "cell_type": "code",
   "execution_count": 10,
   "id": "97a25fe5",
   "metadata": {},
   "outputs": [],
   "source": [
    "# define a string sql_qry which will be applied to the metric sql query\n",
    "\n",
    "# no constraint\n",
    "# sql_qry = ''\n",
    "\n",
    "# Choose to ignore deep drilling fields and count everything else\n",
    "sql_qry = ' and note not like \"%DD%\"'\n",
    "\n",
    "# Use this string to count only the WFD?\n",
    "# sql_qry = ' and note like \"%pair%\"'"
   ]
  },
  {
   "cell_type": "code",
   "execution_count": 11,
   "id": "3bea8878",
   "metadata": {},
   "outputs": [
    {
     "data": {
      "text/plain": [
       "239308"
      ]
     },
     "execution_count": 11,
     "metadata": {},
     "output_type": "execute_result"
    }
   ],
   "source": [
    "len(df_year1)"
   ]
  },
  {
   "cell_type": "code",
   "execution_count": 12,
   "id": "44c059ff",
   "metadata": {},
   "outputs": [
    {
     "name": "stdout",
     "output_type": "stream",
     "text": [
      "first_year_baseline_v3.2_10yrs.db\n",
      "first_year_baseline_v3.2_10yrs\n"
     ]
    }
   ],
   "source": [
    "# set up some filenames\n",
    "opsim_fname = year1_fname\n",
    "print(opsim_fname)\n",
    "# opsdb = maf.OpsimDatabase(opsim_fname)\n",
    "opsdb = opsim_fname\n",
    "runName = os.path.split(opsdb)[-1].replace('.db', '')\n",
    "print(runName)"
   ]
  },
  {
   "cell_type": "code",
   "execution_count": 13,
   "id": "e7af82fa",
   "metadata": {},
   "outputs": [
    {
     "data": {
      "text/plain": [
       "array([ 28,  56,  84, 112, 140, 168, 196, 224, 252, 280, 308, 336, 364,\n",
       "       365])"
      ]
     },
     "execution_count": 13,
     "metadata": {},
     "output_type": "execute_result"
    }
   ],
   "source": [
    "# query the metric repeatedly over some timescale\n",
    "tscale = 28\n",
    "query_nights = np.arange(tscale,night_max+tscale,tscale)\n",
    "# do not query beyond night_max\n",
    "query_nights[query_nights>night_max] = night_max\n",
    "query_nights"
   ]
  },
  {
   "cell_type": "code",
   "execution_count": 14,
   "id": "481d3e6b",
   "metadata": {
    "scrolled": true
   },
   "outputs": [
    {
     "name": "stdout",
     "output_type": "stream",
     "text": [
      "night <= 28 and note not like \"%DD%\"\n",
      "filter = \"u\" and night <= 28 and note not like \"%DD%\"\n",
      "filter = \"g\" and night <= 28 and note not like \"%DD%\"\n",
      "filter = \"r\" and night <= 28 and note not like \"%DD%\"\n",
      "filter = \"i\" and night <= 28 and note not like \"%DD%\"\n",
      "filter = \"z\" and night <= 28 and note not like \"%DD%\"\n",
      "filter = \"y\" and night <= 28 and note not like \"%DD%\"\n",
      "night <= 56 and note not like \"%DD%\"\n",
      "filter = \"u\" and night <= 56 and note not like \"%DD%\"\n",
      "filter = \"g\" and night <= 56 and note not like \"%DD%\"\n",
      "filter = \"r\" and night <= 56 and note not like \"%DD%\"\n",
      "filter = \"i\" and night <= 56 and note not like \"%DD%\"\n",
      "filter = \"z\" and night <= 56 and note not like \"%DD%\"\n",
      "filter = \"y\" and night <= 56 and note not like \"%DD%\"\n",
      "night <= 84 and note not like \"%DD%\"\n",
      "filter = \"u\" and night <= 84 and note not like \"%DD%\"\n",
      "filter = \"g\" and night <= 84 and note not like \"%DD%\"\n",
      "filter = \"r\" and night <= 84 and note not like \"%DD%\"\n",
      "filter = \"i\" and night <= 84 and note not like \"%DD%\"\n",
      "filter = \"z\" and night <= 84 and note not like \"%DD%\"\n",
      "filter = \"y\" and night <= 84 and note not like \"%DD%\"\n",
      "night <= 112 and note not like \"%DD%\"\n",
      "filter = \"u\" and night <= 112 and note not like \"%DD%\"\n",
      "filter = \"g\" and night <= 112 and note not like \"%DD%\"\n",
      "filter = \"r\" and night <= 112 and note not like \"%DD%\"\n",
      "filter = \"i\" and night <= 112 and note not like \"%DD%\"\n",
      "filter = \"z\" and night <= 112 and note not like \"%DD%\"\n",
      "filter = \"y\" and night <= 112 and note not like \"%DD%\"\n",
      "night <= 140 and note not like \"%DD%\"\n",
      "filter = \"u\" and night <= 140 and note not like \"%DD%\"\n",
      "filter = \"g\" and night <= 140 and note not like \"%DD%\"\n",
      "filter = \"r\" and night <= 140 and note not like \"%DD%\"\n",
      "filter = \"i\" and night <= 140 and note not like \"%DD%\"\n",
      "filter = \"z\" and night <= 140 and note not like \"%DD%\"\n",
      "filter = \"y\" and night <= 140 and note not like \"%DD%\"\n",
      "night <= 168 and note not like \"%DD%\"\n",
      "filter = \"u\" and night <= 168 and note not like \"%DD%\"\n",
      "filter = \"g\" and night <= 168 and note not like \"%DD%\"\n",
      "filter = \"r\" and night <= 168 and note not like \"%DD%\"\n",
      "filter = \"i\" and night <= 168 and note not like \"%DD%\"\n",
      "filter = \"z\" and night <= 168 and note not like \"%DD%\"\n",
      "filter = \"y\" and night <= 168 and note not like \"%DD%\"\n",
      "night <= 196 and note not like \"%DD%\"\n",
      "filter = \"u\" and night <= 196 and note not like \"%DD%\"\n",
      "filter = \"g\" and night <= 196 and note not like \"%DD%\"\n",
      "filter = \"r\" and night <= 196 and note not like \"%DD%\"\n",
      "filter = \"i\" and night <= 196 and note not like \"%DD%\"\n",
      "filter = \"z\" and night <= 196 and note not like \"%DD%\"\n",
      "filter = \"y\" and night <= 196 and note not like \"%DD%\"\n",
      "night <= 224 and note not like \"%DD%\"\n",
      "filter = \"u\" and night <= 224 and note not like \"%DD%\"\n",
      "filter = \"g\" and night <= 224 and note not like \"%DD%\"\n",
      "filter = \"r\" and night <= 224 and note not like \"%DD%\"\n",
      "filter = \"i\" and night <= 224 and note not like \"%DD%\"\n",
      "filter = \"z\" and night <= 224 and note not like \"%DD%\"\n",
      "filter = \"y\" and night <= 224 and note not like \"%DD%\"\n",
      "night <= 252 and note not like \"%DD%\"\n",
      "filter = \"u\" and night <= 252 and note not like \"%DD%\"\n",
      "filter = \"g\" and night <= 252 and note not like \"%DD%\"\n",
      "filter = \"r\" and night <= 252 and note not like \"%DD%\"\n",
      "filter = \"i\" and night <= 252 and note not like \"%DD%\"\n",
      "filter = \"z\" and night <= 252 and note not like \"%DD%\"\n",
      "filter = \"y\" and night <= 252 and note not like \"%DD%\"\n",
      "night <= 280 and note not like \"%DD%\"\n",
      "filter = \"u\" and night <= 280 and note not like \"%DD%\"\n",
      "filter = \"g\" and night <= 280 and note not like \"%DD%\"\n",
      "filter = \"r\" and night <= 280 and note not like \"%DD%\"\n",
      "filter = \"i\" and night <= 280 and note not like \"%DD%\"\n",
      "filter = \"z\" and night <= 280 and note not like \"%DD%\"\n",
      "filter = \"y\" and night <= 280 and note not like \"%DD%\"\n",
      "night <= 308 and note not like \"%DD%\"\n",
      "filter = \"u\" and night <= 308 and note not like \"%DD%\"\n",
      "filter = \"g\" and night <= 308 and note not like \"%DD%\"\n",
      "filter = \"r\" and night <= 308 and note not like \"%DD%\"\n",
      "filter = \"i\" and night <= 308 and note not like \"%DD%\"\n",
      "filter = \"z\" and night <= 308 and note not like \"%DD%\"\n",
      "filter = \"y\" and night <= 308 and note not like \"%DD%\"\n",
      "night <= 336 and note not like \"%DD%\"\n",
      "filter = \"u\" and night <= 336 and note not like \"%DD%\"\n",
      "filter = \"g\" and night <= 336 and note not like \"%DD%\"\n",
      "filter = \"r\" and night <= 336 and note not like \"%DD%\"\n",
      "filter = \"i\" and night <= 336 and note not like \"%DD%\"\n",
      "filter = \"z\" and night <= 336 and note not like \"%DD%\"\n",
      "filter = \"y\" and night <= 336 and note not like \"%DD%\"\n",
      "night <= 364 and note not like \"%DD%\"\n",
      "filter = \"u\" and night <= 364 and note not like \"%DD%\"\n",
      "filter = \"g\" and night <= 364 and note not like \"%DD%\"\n",
      "filter = \"r\" and night <= 364 and note not like \"%DD%\"\n",
      "filter = \"i\" and night <= 364 and note not like \"%DD%\"\n",
      "filter = \"z\" and night <= 364 and note not like \"%DD%\"\n",
      "filter = \"y\" and night <= 364 and note not like \"%DD%\"\n",
      "night <= 365 and note not like \"%DD%\"\n",
      "filter = \"u\" and night <= 365 and note not like \"%DD%\"\n",
      "filter = \"g\" and night <= 365 and note not like \"%DD%\"\n",
      "filter = \"r\" and night <= 365 and note not like \"%DD%\"\n",
      "filter = \"i\" and night <= 365 and note not like \"%DD%\"\n",
      "filter = \"z\" and night <= 365 and note not like \"%DD%\"\n",
      "filter = \"y\" and night <= 365 and note not like \"%DD%\"\n"
     ]
    }
   ],
   "source": [
    "# perform the count metric for visits up to the query night\n",
    "# this means that visits counted will be cumulative\n",
    "\n",
    "_runName = \"{}_nside-{}\".format(runName,nside)\n",
    "\n",
    "bl = []\n",
    "summary_stats = [maf.MedianMetric()]\n",
    "    \n",
    "for t_data in query_nights:\n",
    "\n",
    "    for filt in [\"all\",\"u\",\"g\",\"r\",\"i\",\"z\",\"y\"]:\n",
    "\n",
    "        if filt==\"all\":\n",
    "            sql = 'night <= {}'.format(t_data)+sql_qry\n",
    "        else:\n",
    "            sql = 'filter = \"{}\" and night <= {}'.format(filt,t_data)+sql_qry\n",
    "            \n",
    "        print(sql)\n",
    "\n",
    "        # Run the count metric\n",
    "        metric = maf.CountMetric(col='observationStartMJD', metric_name = \"CountMetric\")\n",
    "        bl.append(maf.MetricBundle(metric, s_hp, sql, summary_metrics=summary_stats, run_name=_runName))\n",
    "\n",
    "mg = maf.MetricBundleGroup(bl, opsdb, out_dir=save_dir)\n",
    "\n",
    "mg.run_all()\n",
    "# mg.plot_all(closefigs=False)"
   ]
  },
  {
   "cell_type": "markdown",
   "id": "c2d28df7",
   "metadata": {},
   "source": [
    "# Load the metric data and analyse"
   ]
  },
  {
   "cell_type": "code",
   "execution_count": null,
   "id": "606d03a4",
   "metadata": {},
   "outputs": [
    {
     "name": "stdout",
     "output_type": "stream",
     "text": [
      "survey_coverage_results_64/first_year_baseline_v3_2_10yrs_nside-64_CountMetric_night_lt_112_HEAL.npz\n",
      "Healpix slicer using NSIDE=64, approximate resolution 54.967783 arcminutes\n",
      "24897\n",
      "survey_coverage_results_64/first_year_baseline_v3_2_10yrs_nside-64_CountMetric_night_lt_112_and_note_not_like_DD_HEAL.npz\n",
      "Healpix slicer using NSIDE=64, approximate resolution 54.967783 arcminutes\n",
      "24854\n",
      "survey_coverage_results_64/first_year_baseline_v3_2_10yrs_nside-64_CountMetric_night_lt_140_HEAL.npz\n",
      "Healpix slicer using NSIDE=64, approximate resolution 54.967783 arcminutes\n",
      "28137\n",
      "survey_coverage_results_64/first_year_baseline_v3_2_10yrs_nside-64_CountMetric_night_lt_140_and_note_not_like_DD_HEAL.npz\n",
      "Healpix slicer using NSIDE=64, approximate resolution 54.967783 arcminutes\n",
      "28137\n",
      "survey_coverage_results_64/first_year_baseline_v3_2_10yrs_nside-64_CountMetric_night_lt_168_HEAL.npz\n",
      "Healpix slicer using NSIDE=64, approximate resolution 54.967783 arcminutes\n",
      "29658\n",
      "survey_coverage_results_64/first_year_baseline_v3_2_10yrs_nside-64_CountMetric_night_lt_168_and_note_not_like_DD_HEAL.npz\n",
      "Healpix slicer using NSIDE=64, approximate resolution 54.967783 arcminutes\n",
      "29658\n",
      "survey_coverage_results_64/first_year_baseline_v3_2_10yrs_nside-64_CountMetric_night_lt_196_HEAL.npz\n",
      "Healpix slicer using NSIDE=64, approximate resolution 54.967783 arcminutes\n",
      "30638\n",
      "survey_coverage_results_64/first_year_baseline_v3_2_10yrs_nside-64_CountMetric_night_lt_196_and_note_not_like_DD_HEAL.npz\n",
      "Healpix slicer using NSIDE=64, approximate resolution 54.967783 arcminutes\n",
      "30638\n",
      "survey_coverage_results_64/first_year_baseline_v3_2_10yrs_nside-64_CountMetric_night_lt_224_HEAL.npz\n",
      "Healpix slicer using NSIDE=64, approximate resolution 54.967783 arcminutes\n",
      "32293\n",
      "survey_coverage_results_64/first_year_baseline_v3_2_10yrs_nside-64_CountMetric_night_lt_224_and_note_not_like_DD_HEAL.npz\n",
      "Healpix slicer using NSIDE=64, approximate resolution 54.967783 arcminutes\n",
      "32293\n",
      "survey_coverage_results_64/first_year_baseline_v3_2_10yrs_nside-64_CountMetric_night_lt_252_HEAL.npz\n",
      "Healpix slicer using NSIDE=64, approximate resolution 54.967783 arcminutes\n"
     ]
    }
   ],
   "source": [
    "# count the total \"unique\" area or the total area of all observed visits?\n",
    "footprint_area = {}\n",
    "\n",
    "for filt in [\"all\",\"u\",\"g\",\"r\",\"i\",\"z\",\"y\"]:\n",
    "    \n",
    "    # get metric files\n",
    "    if filt==\"all\":\n",
    "        files = glob.glob(\"{}/*CountMetric_night_lt*npz\".format(save_dir)) # select only metric files where all filters where considered\n",
    "    else:\n",
    "        files = glob.glob(\"{}/*CountMetric_{}*npz\".format(save_dir,filt)) # go through all metric files for all filters\n",
    "    files.sort()\n",
    "    \n",
    "    footprint_area[filt] = {}\n",
    "    \n",
    "    for f in files:\n",
    "        print(f)\n",
    "        \n",
    "        # get the query night from file name\n",
    "        n = f.split(\"night_lt_\")[-1].split(\"_\")[0]\n",
    "        \n",
    "        m = maf.MetricBundle.load(f)\n",
    "        data = m.metric_values.data\n",
    "        mask = m.metric_values.mask\n",
    "        \n",
    "        # find the number of healpixels that have some value (i.e. observed at least once)\n",
    "        print(len(data[~mask]))\n",
    "        footprint_area[filt][n] = len(data[~mask]) * pix_area\n"
   ]
  },
  {
   "cell_type": "code",
   "execution_count": null,
   "id": "e2139d09",
   "metadata": {},
   "outputs": [],
   "source": [
    "len(data[~mask])"
   ]
  },
  {
   "cell_type": "code",
   "execution_count": null,
   "id": "4eca1430",
   "metadata": {},
   "outputs": [],
   "source": [
    "data[~mask]"
   ]
  },
  {
   "cell_type": "code",
   "execution_count": null,
   "id": "643fb983",
   "metadata": {},
   "outputs": [],
   "source": [
    "len(data[data>0])"
   ]
  },
  {
   "cell_type": "code",
   "execution_count": null,
   "id": "40e206c4",
   "metadata": {},
   "outputs": [],
   "source": [
    "# inspect the filter, area dict\n",
    "# note that not all entries are in night order...\n",
    "footprint_area"
   ]
  },
  {
   "cell_type": "code",
   "execution_count": null,
   "id": "5e8b4f4e",
   "metadata": {},
   "outputs": [],
   "source": [
    "fig = plt.figure()\n",
    "gs = gridspec.GridSpec(1, 1)\n",
    "ax1 = plt.subplot(gs[0,0])\n",
    "\n",
    "\n",
    "for filt in [\"all\",\"u\",\"g\",\"r\",\"i\",\"z\",\"y\"]:\n",
    "    area = np.array(list(footprint_area[filt].values()))\n",
    "    nights = np.array(list(footprint_area[filt].keys())).astype(float)\n",
    "    sort_mask  = np.argsort(nights)\n",
    "\n",
    "    ax1.plot(nights[sort_mask], area[sort_mask], label = filt)\n",
    "    \n",
    "    print(filt,night_max,footprint_area[filt][str(night_max)])\n",
    "\n",
    "ax1.set_xlabel(\"night(mjd)\")\n",
    "ax1.set_ylabel(\"cumulative survey footprint (square degrees)\")\n",
    "ax1.legend()\n",
    "\n",
    "plt.show()"
   ]
  },
  {
   "cell_type": "code",
   "execution_count": null,
   "id": "a31b3306",
   "metadata": {},
   "outputs": [],
   "source": []
  }
 ],
 "metadata": {
  "kernelspec": {
   "display_name": "rubin",
   "language": "python",
   "name": "rubin"
  },
  "language_info": {
   "codemirror_mode": {
    "name": "ipython",
    "version": 3
   },
   "file_extension": ".py",
   "mimetype": "text/x-python",
   "name": "python",
   "nbconvert_exporter": "python",
   "pygments_lexer": "ipython3",
   "version": "3.9.16"
  }
 },
 "nbformat": 4,
 "nbformat_minor": 5
}
